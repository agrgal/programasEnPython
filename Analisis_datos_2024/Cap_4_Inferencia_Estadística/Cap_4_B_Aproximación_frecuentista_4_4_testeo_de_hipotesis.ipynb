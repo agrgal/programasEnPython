{
 "cells": [
  {
   "cell_type": "markdown",
   "id": "ea17b3af-a21b-40e2-9dc1-030060dcbada",
   "metadata": {},
   "source": [
    "Online resources: https://stackedit.io/app# , https://github.com/DataScienceUB/introduction-datascience-python-book , https://latex.codecogs.com/eqneditor/editor.php "
   ]
  },
  {
   "cell_type": "code",
   "execution_count": 1,
   "id": "9a2e265b-c579-4275-8faa-2257626adbbd",
   "metadata": {},
   "outputs": [
    {
     "name": "stderr",
     "output_type": "stream",
     "text": [
      "/tmp/ipykernel_6423/1842690681.py:7: DeprecationWarning: Importing display from IPython.core.display is deprecated since IPython 7.14, please import from IPython display\n",
      "  from IPython.core.display import display, HTML\n"
     ]
    }
   ],
   "source": [
    "import pandas as pd # tratamiento de datos\n",
    "import numpy as np\n",
    "from scipy.stats import norm,gaussian_kde\n",
    "import matplotlib.pyplot as plt \n",
    "import math\n",
    "\n",
    "from IPython.core.display import display, HTML"
   ]
  },
  {
   "cell_type": "markdown",
   "id": "a13eb95c-f880-45b9-9b78-9e5173000387",
   "metadata": {},
   "source": [
    "#### 4.4) Testeo de hipótesis\n"
   ]
  },
  {
   "cell_type": "code",
   "execution_count": null,
   "id": "161f8dbb-5f98-4f33-b5fb-938d3b99c62c",
   "metadata": {},
   "outputs": [],
   "source": []
  }
 ],
 "metadata": {
  "kernelspec": {
   "display_name": "Python 3 (ipykernel)",
   "language": "python",
   "name": "python3"
  },
  "language_info": {
   "codemirror_mode": {
    "name": "ipython",
    "version": 3
   },
   "file_extension": ".py",
   "mimetype": "text/x-python",
   "name": "python",
   "nbconvert_exporter": "python",
   "pygments_lexer": "ipython3",
   "version": "3.11.9"
  }
 },
 "nbformat": 4,
 "nbformat_minor": 5
}
