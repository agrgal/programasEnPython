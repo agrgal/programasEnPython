{
 "cells": [
  {
   "cell_type": "markdown",
   "id": "ea17b3af-a21b-40e2-9dc1-030060dcbada",
   "metadata": {},
   "source": [
    "Online resources: https://stackedit.io/app# , https://github.com/DataScienceUB/introduction-datascience-python-book , https://latex.codecogs.com/eqneditor/editor.php "
   ]
  },
  {
   "cell_type": "code",
   "execution_count": 1,
   "id": "9a2e265b-c579-4275-8faa-2257626adbbd",
   "metadata": {},
   "outputs": [
    {
     "name": "stderr",
     "output_type": "stream",
     "text": [
      "/tmp/ipykernel_6423/1842690681.py:7: DeprecationWarning: Importing display from IPython.core.display is deprecated since IPython 7.14, please import from IPython display\n",
      "  from IPython.core.display import display, HTML\n"
     ]
    }
   ],
   "source": [
    "import pandas as pd # tratamiento de datos\n",
    "import numpy as np\n",
    "from scipy.stats import norm,gaussian_kde\n",
    "import matplotlib.pyplot as plt \n",
    "import math\n",
    "\n",
    "from IPython.core.display import display, HTML"
   ]
  },
  {
   "cell_type": "markdown",
   "id": "a13eb95c-f880-45b9-9b78-9e5173000387",
   "metadata": {},
   "source": [
    "# 4.1) Inferencia estadística\n",
    "\n",
    "Hay dos tipos fundamentales de aproximaciones estadísticas: la **frecuentista** y la **Bayesiana**\n",
    "\n",
    "- En el caso ***frecuentista*** hay una población que puede ser representada por varios parámetros, y de las que podemos obtener numerosos ejemplos aleatorios. Estos parámetros son fijos, pero el observador no puede acceder a ellos. Lo máximo que puede hacerse es obtener una muestra de la población, calcular los parámetros de la muestra y usar la inferencia estadística para hacer proposiciones probables respecto de la población.\n",
    "- En el caso ***bayesiano*** nos basamos en parámetros fijos; esos parámetros describen el conjunto de los datos y nos centramos en calcular distribuciones que deberán concordar con las muestras posteriores. Calculamos información a priori.\n",
    "\n",
    "***Por ahora, nos dedicaremos a la aproximación frecuentista.***\n",
    "\n",
    "<hr>"
   ]
  },
  {
   "cell_type": "markdown",
   "id": "7f2e3432-9e90-4723-abd2-33004cc81675",
   "metadata": {},
   "source": [
    "### 4.2) Inferencia estadística: la aproximación frecuentista.\n",
    "\n",
    "Como hemos dicho, se basa en parámetros calculados de la muestra de una población. Las proposiciones que podemos hacer son:\n",
    "\n",
    "- Proposiciones sobre *Estimación puntual*: valor que mejor se aproxima a algún parámetro de interés, como la media o la mediana.\n",
    "- Proposiciones sobre *Estimación de intervalos de confianza o set estimation*: rango de valores que mejor representa a algún parámtero de interés.\n",
    "- Proposiciones sobre aceptar o rechazar **hipótesis**. "
   ]
  },
  {
   "cell_type": "markdown",
   "id": "7c8d5fd9-f8ad-4d01-839b-9abadff06736",
   "metadata": {},
   "source": [
    "En todas las proposiciones, podemos estimar la probabilidad de que el resultado haya sido causado por azar. La estadística clásica manejaba conceptos como el teorema del límite central, la distribución empírica de la muestra o el t-test.\n",
    "\n",
    "El uso de modernos ordenadores abre la puerta a otros métodos: métodos de muestreo (como bootstrapping), Markov chain (la cadena de Markov), método de Monte Carlo... Con los que podemos manejar modelos más realistas.\n",
    "\n",
    "### 4.3) Midiendo la variabilidad en estimaciones\n",
    "\n",
    "Las estimaciones producidas por la estadística descriptiva ***no es la verdad***. Pero son mejores cuantos más datos estén disponibles. Así que tiene sentido usarlas como elementos centrales de nuestras proposiciones, y medir su variabilidad respecto al tamaño de la muestra. \n",
    "\n",
    "#### 4.3.1) Estimaciones puntuales\n",
    "\n",
    "Ejemplo de la ciudad de Barcelona. Accidentes en 2013.\n"
   ]
  },
  {
   "cell_type": "code",
   "execution_count": 2,
   "id": "8ac8b4ad-2c36-4a01-bf89-ce579dcfcac4",
   "metadata": {},
   "outputs": [
    {
     "data": {
      "text/plain": [
       "Fecha\n",
       "2013-01-01    16\n",
       "2013-01-02    18\n",
       "2013-01-03    17\n",
       "2013-01-04    29\n",
       "2013-01-05    17\n",
       "dtype: int64"
      ]
     },
     "execution_count": 2,
     "metadata": {},
     "output_type": "execute_result"
    }
   ],
   "source": [
    "data = pd.read_csv(\"ACCIDENTS_GU_BCN_2013.csv\",encoding=\"iso8859_15\") # hay que cambiar el encoding a iso8859_15\n",
    "data['Fecha']=data['Dia de mes'].apply(lambda x: str(x))+\"-\"+data['Mes de any'].apply(lambda x: str(x))+\"-2013\"\n",
    "data['Fecha']=pd.to_datetime(data['Fecha'],dayfirst=True)\n",
    "accidentes = data.groupby(data['Fecha']).size()\n",
    "accidentes.head()"
   ]
  },
  {
   "cell_type": "code",
   "execution_count": 3,
   "id": "504aeadc-7ce0-4ae5-8a47-4afed3714f11",
   "metadata": {},
   "outputs": [
    {
     "data": {
      "text/html": [
       "<p>La media de los accidentes en Barcelona en 2013 es: <b>25.9096</b></p>"
      ],
      "text/plain": [
       "<IPython.core.display.HTML object>"
      ]
     },
     "metadata": {},
     "output_type": "display_data"
    }
   ],
   "source": [
    "display(HTML((\"<p>La media de los accidentes en Barcelona en 2013 es: <b>{:.4f}</b></p>\".format(accidentes.mean()))))"
   ]
  },
  {
   "cell_type": "markdown",
   "id": "92a8a70d-d6e9-4d30-ac10-7d3916804bdf",
   "metadata": {},
   "source": [
    "Vamos a suponer, por ahora, que tenemos *acceso limitado a los datos*, a una parte de ellos (la muestra). ¿Es posible dar una **aproximación de la media de la población**?\n",
    "\n",
    "Lo primero que se nos ocurre es hacer la media de la muestra (**estimación puntual**) y suponer, en primera aproximación, que es nuestra mejor opción para estimar la media de la población. \n",
    "\n",
    "El problema está que esta estimación variará de una muestra a otra. Y esta variación nos sugiere que nuestra estimación estará cercana ***pero no será igual que nuestro parámetro de interés.***\n",
    "\n",
    "En este caso, como tenemos acceso a la población podemos construir **la distribución muestral de la media de las muestras**. Es decir, dado un tamaño de la muestra dado, calculamos todas las posibles muestras de ese tamaño, y hacemos un histograma con sus medias. \n",
    "\n",
    "1) Construimos un número ***s***  de tests --> $\\left \\{ x^i \\; \\dots \\dots \\;  x^s \\right \\}$\n",
    "2) Cada test ***j***  está compuesto de ***n*** elemento (tamaño de la muestra) -->  $x^j = \\left \\{ x_i^j \\right \\}_{i=1,\\dots,n}$\n",
    "3) Calculamos la media de cada test --> $\\bar{\\mu}^j = \\frac{1}{n}\\; \\sum_{i=1}^{n} x_i^j$\n",
    "4) Evaluamos el histograma de estas medias $\\bar{\\mu^j}$"
   ]
  },
  {
   "cell_type": "code",
   "execution_count": 4,
   "id": "9ce1fe94-932e-4620-a70c-a0d765bc1b26",
   "metadata": {},
   "outputs": [],
   "source": [
    "df = accidentes.to_frame(name=\"numero\") # convierte una serie en un data frame. Le pongo un nombre a la columna. \n",
    "s= 3000 # número de tests de ejemplo\n",
    "n = 200 # tamaños de las muestras\n",
    "medias = [0] * s # listado con todas las medias. Tiene 10000 entradas\n",
    "for i in range(s): # por cada test\n",
    "    rows = np.random.choice(df.index.values, n) # se elige, de un tamaño de 200, a 200 índices del dataframe al azar\n",
    "    sampled_df = df.loc[rows][\"numero\"] # obtengo una simple lista de muestra\n",
    "    # print(sampled_df)\n",
    "    medias[i] = np.round(sampled_df.mean(),2) #calculo la media REDONDEADA A 2 y la guardo en una lista"
   ]
  },
  {
   "cell_type": "markdown",
   "id": "49709620-27f3-4787-884a-396f704edb68",
   "metadata": {},
   "source": [
    "<hr>\n",
    "\n",
    "#### Dibujando el histograma de las medias"
   ]
  },
  {
   "cell_type": "code",
   "execution_count": 5,
   "id": "4191db2d-0e02-46d5-8459-9952549ed3d5",
   "metadata": {},
   "outputs": [
    {
     "data": {
      "text/plain": [
       "<matplotlib.lines.Line2D at 0x792019ed5d90>"
      ]
     },
     "execution_count": 5,
     "metadata": {},
     "output_type": "execute_result"
    },
    {
     "data": {
      "image/png": "[encoded data removed]",
      "text/plain": [
       "<Figure size 640x480 with 1 Axes>"
      ]
     },
     "metadata": {},
     "output_type": "display_data"
    }
   ],
   "source": [
    "resultado = plt.hist(medias, bins=40, color='c', edgecolor='k', alpha=0.65) #dibujo el histograma de las medias con 40 intervalos\n",
    "plt.axvline(x=accidentes.mean(),color='r',linestyle='dashed',linewidth=1) # añado la línea de la media de la población"
   ]
  },
  {
   "cell_type": "markdown",
   "id": "ab909fbe-7901-4cf6-b034-0920ac1eeffa",
   "metadata": {},
   "source": [
    "<hr>\n",
    "\n",
    "#### 4.3.1.2) La aproximación tradicional.\n",
    "\n",
    "En un problema real no conocemos la población real. Así que no tendremos acceso completo a **la la distribución muestral de la media de las muestras**. Pero este problema puede ser resuelto haciendo uso de la estadística tradicional y de resultados teóricos. \n",
    "\n",
    "Dadas **n** observaciones independientes $\\left \\{ x_i  \\right \\}, i=1 \\dots n$, de una población (una muestra), con desviación estándar $\\sigma_x$, la desviación estándar de la media de la muestra, o ***error estándar*** sería\n",
    "\n",
    "<center>$$ SE = \\frac{\\sigma_x}{\\sqrt{n}}$$ </center>\n",
    "\n",
    "La demostración de este resultado se basa en el **Teorema del Límite Central**, de Laplace (1810). Esta fórmula usa la desviación estándar  $\\sigma_x$ de la población (que no es conocida). Pero se demuestra que si se usa la estimación **$\\sigma_{\\widehat{x}]$** de una muestra con n>30 y la distribución de la población no es asimétrica (oblicua) la aproximación es suficientemente buena. Esto no permite obtener el error estándar de la media de la muestra incluso sin acceder a la población. \n",
    "\n",
    "Así que... ¿Podemos dar una medida de la variabilidad de la media de la muestra? Sí, dando el error estándar de la distribución de las medias de forma empírica. "
   ]
  },
  {
   "cell_type": "code",
   "execution_count": 6,
   "id": "56a6b1e1-a118-45a7-a0eb-4e3a431766c7",
   "metadata": {},
   "outputs": [
    {
     "name": "stdout",
     "output_type": "stream",
     "text": [
      "El error estándar de una muestra aleatoria es: 0.681\n",
      "Calculamos el error estándar a partir de la desviación estándar de todas las medias de los 3000 tests 0.653\n"
     ]
    }
   ],
   "source": [
    "rows = np.random.choice(df.index.values, n) #escojo una muestra al azar. n --> de antes\n",
    "sampled_df = df.loc[rows][\"numero\"] # obtengo una simple lista de muestra\n",
    "es_sampled_df = sampled_df.std()/ (math.sqrt(len(sampled_df))) # calculo el error estándar\n",
    "\n",
    "print(\"El error estándar de una muestra aleatoria es: {:.3f}\".format(es_sampled_df))\n",
    "print(\"Calculamos el error estándar a partir de la desviación estándar de todas las medias de los {} tests {:.3f}\".format(s,np.array(medias).std()))"
   ]
  },
  {
   "cell_type": "markdown",
   "id": "c8c80b94-1394-489c-ae11-735524b0667a",
   "metadata": {},
   "source": [
    "<hr>\n",
    "\n",
    "No se puede hacer con otro parámetro, como la mediana. Sólo con la media. "
   ]
  },
  {
   "cell_type": "markdown",
   "id": "c5a3643f-d76c-4fc7-90cc-ac92faac3956",
   "metadata": {},
   "source": [
    "#### 4.3.1.3) La aproximación computacional intensiva.\n",
    "\n",
    "Consideremos una muestra de una hipotética población (lo más habitual). Lo más usual es el método bootstrapping: se trata de, a partir de una muestra, crear una muestra de reemplazo (o bootstrap) a la que podemos calcular la media. Repitiendo ésto una serie de veces, podemos obtener una distribución muestral de las medias. \n",
    "\n",
    "La idea básica radica en que con una sola muestra ya obtenemos una idea de la distribución de los datos de la población. Así que calculando nuevas muestras a partir de esta muestra, es como si lo hiciésemos de la población original. \n",
    "\n",
    "Con este método podemos estimar otros parámetros como la mediana, la moda, etc. No solo la media. "
   ]
  },
  {
   "cell_type": "code",
   "execution_count": 7,
   "id": "961f3993-9a0f-4ac8-90c1-708c51abe7f8",
   "metadata": {},
   "outputs": [
    {
     "name": "stdout",
     "output_type": "stream",
     "text": [
      "La estimación de la media es 25.94534\n"
     ]
    }
   ],
   "source": [
    "def bootstrap(X,tests):\n",
    "    x = [0] * tests\n",
    "    for i in range(tests):\n",
    "        sample=[X.iloc[j] for j in np.random.randint(len(X),size=len(X))] #coge al azar 365 valores de la población\n",
    "        #, pero pueden estar repetidos con lo que son muestras diferentes ¿¿??\n",
    "        x[i] = np.mean(sample) #le calcula la media a esa muestra\n",
    "    return x\n",
    "\n",
    "n = 300\n",
    "m = bootstrap(df[\"numero\"], n) # de antes he calculado el número de accidentes y lo he llamado n, que era 3000. df viene de convertir accidentes en un data frame df\n",
    "print(\"La estimación de la media es {:.5f}\".format(np.mean(m)))\n",
    "    "
   ]
  },
  {
   "cell_type": "markdown",
   "id": "c3dee5f7-7c6a-48a0-8e83-ae2f6f686759",
   "metadata": {},
   "source": [
    "### 4.3.2) Intervalos de confianza\n",
    "\n",
    "Una estimación puntual $\\theta$, como la media de la muestra, da un valor aceptable para un parámetro. Sin embargo, como hemos visto, no es perfecto. Siempre hay algún error en la estimación. Una medida de ese error es el cálculo del error estándar. \n",
    "\n",
    "En lugar de dar un simple valor, podemos dar un intervalo de valores para ese parámetro. Es lo que se conoce como ***intervalo de confianza***.\n",
    "\n",
    "Para establecer el intervalo, consideramos dos ideas:\n",
    "\n",
    "- El valor estimado puntual sigue siendo el valor más aceptable para el parámetro, y tiene sentido que el intervalo de confianza se construya a partir de este punto.\n",
    "- La *plausibilidad* del intervalo debe deducirse de la distribución muestral de la estimación.\n",
    "\n",
    "Para el caso de la media, el teorema límite central afirma que **la distribución de la muestra es normal**.\n",
    "\n",
    "***Teorema 4.1:*** Dada una población con una media finita $\\mu$ y una varianza no nula $\\sigma^2$, la distribución muestral de la media se acerca a una distribución normal con una media de $\\mu$ y una varianza de $\\frac{\\sigma^2}{n}$ mientras n, el tamaño de la muestra, aumente.\n",
    "\n",
    "En este caso, y con la intención de definir un intervalo, podemos usar un conocido resultado de probabilidad que se aplica a distribuciones normales: **aproximadamente el 95% de las veces nuestra estimación estará dentro de 1.96 errores estándar de la verdadera media de la distribución**.\n",
    "\n",
    "Si el intervalo se extiende 1.96 veces el error estándar de un punto estimado distribuido normalmente, intuitivamente podemos decir que tenemos una confianza del 95% de que hemos capturado el parámetro real. \n",
    "\n",
    "<center>$$ CI = [\\; \\theta - 1.96 \\cdot SE \\;,\\; \\theta + 1.96 \\cdot SE\\;] $$</center>\n"
   ]
  },
  {
   "cell_type": "code",
   "execution_count": 8,
   "id": "9389ab64-0b31-468a-81c3-b2975acb7135",
   "metadata": {},
   "outputs": [
    {
     "name": "stdout",
     "output_type": "stream",
     "text": [
      "Intervalo de confianza CI: [ 24.975, 26.844 ] // media 25.910 y error 0.477\n"
     ]
    }
   ],
   "source": [
    "accidentes = df[\"numero\"] #creo que lo estoy haciendo sobre la población total ¿¿?? \n",
    "mu = accidentes.mean()\n",
    "error_estandar = accidentes.std()/math.sqrt(len(accidentes))\n",
    "z = 1.96\n",
    "ci = [mu-z*error_estandar,mu+z*error_estandar]\n",
    "print(\"Intervalo de confianza CI: [ {:.3f}, {:.3f} ] // media {:.3f} y error {:.3f}\".format(ci[0],ci[1],mu,error_estandar))"
   ]
  },
  {
   "cell_type": "markdown",
   "id": "25e7e330-75f9-4cd3-b7b0-994e58a3e2c3",
   "metadata": {},
   "source": [
    "<hr>\n",
    "\n",
    "Para una confianza del 99%, z=2.58 y para el 99.9%, z=3.291.\n",
    "\n",
    "**NOTA:** recuerdo que en la carrera, frecuentemente escogíamos z=3. A veces, pocas, z=2\n",
    "\n",
    "##### ¿Cómo se calcula un intervalo del 95% de confianza con bootstrap?\n",
    "\n",
    "1. Repetir por un gran número de veces, **s**\n",
    "    -  Dibujar **n** observaciones reemplazando los datos originales creando una re-muestra (o muestra bootstrap)\n",
    "    -  Calcular la media de la muestra.\n",
    "2. Calculamos la media del dato estadístico muestreado (media de las medias en este caso). Esto te da una estimación \"bootstrapped\" del dato estadístico muestreado.\n",
    "3. Calculamos la desviación típica del dato estadístico muestreado. Esto da una estimación \"bootstrapped\" del error estándar.\n",
    "4. Cogemos 1.96 más menos el intervalo. O bien del percentil 2.5 al 97.5 "
   ]
  },
  {
   "cell_type": "code",
   "execution_count": 12,
   "id": "80165b39-a2e9-416f-9e4a-46bd6c22c1d5",
   "metadata": {},
   "outputs": [
    {
     "name": "stdout",
     "output_type": "stream",
     "text": [
      "Intervalo de confianza CI: [ 24.973, 26.838 ] // media 25.903 y error 0.480\n"
     ]
    }
   ],
   "source": [
    "m = bootstrap(accidentes,3000) # recuerdo que tenemos una función bootstrap que obtiene 10000 (s) medias de muestras de una población\n",
    "# 10000 tarda algo de tiempo. Podemos poner un número menor como 3000 por motivos de ahorro de tiempo.\n",
    "mu = np.mean(m)\n",
    "error_estandar = np.std(m)\n",
    "\n",
    "ci = [mu-z*error_estandar,mu+z*error_estandar] #lo puedo calcular así, como antes o...\n",
    "ci = [np.percentile(m,2.5), np.percentile(m,97.5)]\n",
    "print(\"Intervalo de confianza CI: [ {:.3f}, {:.3f} ] // media {:.3f} y error {:.3f}\".format(ci[0],ci[1],mu,error_estandar))\n"
   ]
  },
  {
   "cell_type": "markdown",
   "id": "f7c47c57-a6f1-4f4c-a4c4-e131ca2c12b5",
   "metadata": {},
   "source": [
    "<hr>\n",
    "\n",
    "#### 4.3.2.1) ¿Qué significa una confianza del 95%?\n",
    "\n",
    "El significado real de \"confianza\" no es evidente y debe se entendido desde el punto de vista del proceso de generación.\n",
    "\n",
    "Si tomamos muchas (infinitas) muestras de una población y construimos un intervalo de confianza al 95% de cada muestra, entonces, en el 95% de esos intervalos debe contenerse el parámetro real. \n",
    "\n",
    "Luego cuando nos topamos con una muestra de la que calculo un intervalo de confianza del 95%, la interpretación correcta es que la verdadera media de la población estará dentro del intervalo de confianza el 95% de las veces. *No podemos decir que nuestra muestra específica contenga el parámetro verdadero que haya un 95% de probabilidades de que contenga el parámetro verdadero*. Esa interpretación no es correcta bajo la asunción de la estadística tradicional. \n",
    "\n",
    "\n"
   ]
  },
  {
   "cell_type": "code",
   "execution_count": null,
   "id": "161f8dbb-5f98-4f33-b5fb-938d3b99c62c",
   "metadata": {},
   "outputs": [],
   "source": []
  }
 ],
 "metadata": {
  "kernelspec": {
   "display_name": "Python 3 (ipykernel)",
   "language": "python",
   "name": "python3"
  },
  "language_info": {
   "codemirror_mode": {
    "name": "ipython",
    "version": 3
   },
   "file_extension": ".py",
   "mimetype": "text/x-python",
   "name": "python",
   "nbconvert_exporter": "python",
   "pygments_lexer": "ipython3",
   "version": "3.11.9"
  }
 },
 "nbformat": 4,
 "nbformat_minor": 5
}
