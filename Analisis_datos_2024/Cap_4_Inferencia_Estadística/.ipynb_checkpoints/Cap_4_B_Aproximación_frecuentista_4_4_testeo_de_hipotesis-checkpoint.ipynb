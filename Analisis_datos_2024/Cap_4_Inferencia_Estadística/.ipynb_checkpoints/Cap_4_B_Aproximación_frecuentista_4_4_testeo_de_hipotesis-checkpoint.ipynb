{
 "cells": [
  {
   "cell_type": "markdown",
   "id": "ea17b3af-a21b-40e2-9dc1-030060dcbada",
   "metadata": {},
   "source": [
    "Online resources: https://stackedit.io/app# , https://github.com/DataScienceUB/introduction-datascience-python-book , https://latex.codecogs.com/eqneditor/editor.php "
   ]
  },
  {
   "cell_type": "code",
   "execution_count": 1,
   "id": "9a2e265b-c579-4275-8faa-2257626adbbd",
   "metadata": {},
   "outputs": [],
   "source": [
    "import pandas as pd # tratamiento de datos\n",
    "import numpy as np\n",
    "from scipy.stats import norm,gaussian_kde\n",
    "import matplotlib.pyplot as plt \n",
    "import math\n",
    "\n",
    "# from IPython.core.display import display, HTML"
   ]
  },
  {
   "cell_type": "markdown",
   "id": "a13eb95c-f880-45b9-9b78-9e5173000387",
   "metadata": {},
   "source": [
    "#### 4.4) Contraste de hipótesis o test de hipótesis\n",
    "\n",
    "Dar una medida sobre la variabilidad de nuestras estimaciones es una manera de producir proposiciones estadísticas sobre la población, pero no la única manera. R.A. Fisher (1890–1962) propuso una alternativa, conocida como test de hipótesis, que se basa en el concepto de **significancia estadística**.\n",
    "\n",
    "Supongamos que un análisis más profundo de los accidentes en Barcelona arroja una diferencia entre 2010 y 2013. Por supuesto, la diferencia podría solo haber sido casual, ya que se estima la variabilidad de ambas. Pero también podría ser que las condiciones del tráfico fuesen muy diferentes y que ambas podrían considerarse poblaciones diferentes. La cuestión es: ¿son los efectos observados reales o no?\n",
    "\n",
    "Técnicamente, la cuestión se traduce a: ¿fueron los efectos observados estadísticamente significativos? El proceso de averiguar la significancia estadística es lo que se conoce como **test de hipótesis**.\n"
   ]
  },
  {
   "cell_type": "markdown",
   "id": "624df6f1-22eb-48ba-b99a-e92a7d112901",
   "metadata": {},
   "source": [
    "El proceso comienza con dos hipótesis contrapuestas que compiten entre sí:\n",
    "\n",
    "- $H_0$: la media de los accidentes diarios de tráfico en 2010 y 2013 son **iguales**. Hay una sola población, con una sola media real, y 2010 y 2013 son dos muestras diferentes de la misma población. Esta es conocida como hipótesis nula (*null hypothesis*) y los efectos observados son casuales. \n",
    "- $H_A$: la media de los accidentes diarios de tráfico en 2010 y 2013 son **distintas**. Son dos poblaciones diferentes, y las muestras de 2010 y 2013 pertenecen a poblaciones distintas. Esta es conocida como hipótesis alternativa (*alternative hypothesis*) y representa el otro punto de vista: los efectos observados son reales.\n",
    "\n",
    "La norma general del contraste de hipótesis frecuentista radica en que no descartamos $H_0$  (y no consideraremos $H_A$) ***a menos que el efecto observado sea inverosímil bajo $H_0$***.\n",
    "\n",
    "<hr>\n",
    "\n",
    "### 4.4.1) Contraste de hipótesis uysando intervalos de confianza\n",
    "\n",
    "Podemos usar el concepto que representan los intervalos de confianza para mediar la probabilidad de una hipótesis. Usaremos el ejemplo de los accidentes diarios de tráfico en Barcelona en 2010 y 2013"
   ]
  },
  {
   "cell_type": "code",
   "execution_count": 2,
   "id": "389c5967-f21d-41fe-85de-950d7a090209",
   "metadata": {},
   "outputs": [
    {
     "name": "stdout",
     "output_type": "stream",
     "text": [
      "Media en 2010: 24.81095890410959\n",
      "Media en 2013: 25.90958904109589\n"
     ]
    }
   ],
   "source": [
    "data = pd.read_csv(\"ACCIDENTS_GU_BCN_2010.csv\",encoding=\"iso8859_15\") # hay que cambiar el encoding a iso8859_15\n",
    "data['Fecha']=data['Dia de mes'].apply(lambda x: str(x))+\"-\"+data['Mes de any'].apply(lambda x: str(x))+\"-2010\"\n",
    "data['Fecha']=pd.to_datetime(data['Fecha'],dayfirst=True)\n",
    "en2010 = data['Fecha'].value_counts()\n",
    "print(\"Media en 2010: {}\".format(en2010.mean()))\n",
    "      \n",
    "data = pd.read_csv(\"ACCIDENTS_GU_BCN_2013.csv\",encoding=\"iso8859_15\") # hay que cambiar el encoding a iso8859_15\n",
    "data['Fecha']=data['Dia de mes'].apply(lambda x: str(x))+\"-\"+data['Mes de any'].apply(lambda x: str(x))+\"-2013\"\n",
    "data['Fecha']=pd.to_datetime(data['Fecha'],dayfirst=True)\n",
    "en2013 = data['Fecha'].value_counts()\n",
    "print(\"Media en 2013: {}\".format(en2013.mean()))"
   ]
  },
  {
   "cell_type": "markdown",
   "id": "3c538fd8-1612-4f48-bfa6-e8e44bcff698",
   "metadata": {},
   "source": [
    "<hr>\n",
    "\n",
    "En principio parece que la media de accidentes de tráfico en Barcelona aumentó en 2013. Pero... ¿es ésto estadísticamente significativo? Calculemos el intervalo de confianza. "
   ]
  },
  {
   "cell_type": "code",
   "execution_count": 3,
   "id": "a7bd0b03-9983-4900-b4be-1bb770014f15",
   "metadata": {},
   "outputs": [
    {
     "name": "stdout",
     "output_type": "stream",
     "text": [
      "Intervalo de confianza en 2013: [25.43283752308793,26.386340559103854]\n"
     ]
    }
   ],
   "source": [
    "ci2013=[en2013.mean()-en2013.std()/math.sqrt(len(en2013)), en2013.mean()+en2013.std()/math.sqrt(len(en2013))]\n",
    "print (\"Intervalo de confianza en 2013: [{},{}]\".format(ci2013[0],ci2013[1]))"
   ]
  },
  {
   "cell_type": "markdown",
   "id": "f75b8f96-5b3c-4393-8114-5835bd5bbe04",
   "metadata": {},
   "source": [
    "**Como el valor estimado en 2010 *NO* entra dentro del intervalo de confianza de 2013, no podemos descartar la hipótesis alternativa.** Es decir, no se puede decir que en 2013 los accidentes de tráfico en Barcelona *se incrementasen de forma casual*. **NOTA PROPIA:** y rechazamos la hipótesis nula, es decir, podemos afirmar que es improbable que la media simplemente varíe de forma casual. \n",
    "\n",
    "##### Interpretando los testeos de intervalos de confianza\n",
    "\n",
    "El contraste de hipótesis se forma rechazando o no la ***hipótesis nula***. Es decir, no rechazamos $H_0$ a menos que tengamos una importante evidencia en contra. ¿Pero qué entendemos con una *importante evidencia*? \n",
    "\n",
    "Como norma general, en aquellos casos donde la hipótesis nula es realmente verdad, no queremos incorrectamente rechazarla más de un 5% de las veces. Esto se corresponde con un nivel de significancia de $\\alpha=0.05$. En este caso, la correcta interpretación de nuestro es:\n",
    "\n",
    "- Si usamos un intervalo de confianza al 95% para testear un problema donde la hipótesis nula es verdadera, cometeremos un error cuando el punto estimado es al menos 1.96 veces el error estándar desde el parámetro de la población. Esto ocurre un 5% de las veces (2.5% por cada extremo)."
   ]
  },
  {
   "cell_type": "markdown",
   "id": "9895efd7-4e36-47ff-8f84-a106e6ecd76b",
   "metadata": {},
   "source": [
    "### 4.4.2) Contraste de hipótesis usando p-values\n",
    "\n",
    "Una noción más avanzada de la significancia estadistica la desarrolló R.A. Fisher en los años 20, cuando buscaba un test para decidir\n",
    "si la variación en el crecimiento de las cosechas se debía a alguna intervención o eran factores aleatorios que se escapaban al control\n",
    "experimental.\n",
    "    \n",
    "Fisher asumió primero que el fertilizante no causaba ninguna diferencia (hipótesis nula) y calculó P, la probabilidad de que un crecimiento observado en un campo fertilizado ocurriera si el fertilizante no tuviese un efecto real. Esta probabilidad se llama ***p-value*** (p-valor).\n",
    "\n",
    "El p-valor es la probabilidad de observar datos, al menos de forma tan favorable a la hipótesis alternativa como nuestro conjunto de datos actuales, si la hipótesis nula es verdadera.  Normalmente usamos un resumen estadístico de los datos para ayudarnos a calcular el p-valor y evaluar la hipótesis. \n",
    "\n",
    "Si P es menor que 0.05 (la probabilidad de que un golpe de suerte sea menos que 5%) el resultado se declara **Estadísticamente significativo**. Debe señalarse que esta elección es muy arbitraria y no debería tomarse como una verdad científica.\n",
    "\n",
    "El objetivo del contraste de hipótesis clásico es responder la cuestión: \"dado una muestra, y un efecto aparente... ¿cuál es la probabilidad de ver ese efecto por casualidad?\" y a esa pregunta respondemos: \n",
    "\n",
    "- El primer paso es **cuantificar el tamaño del efecto aparente**, escogiendo un test estadístico. En nuestro caso , el efecto aparente es la diferencia entre las razones de los accidentes, así que una elección natural para el test estadístico puede ser la diferencia en las medias de los dos períodos. **NOTA PROPIA:** para evaluarlo haré el cambio de calcular la diferencia en valor absoluto.\n",
    "- El segundo paso es definir una **hipótesis nula**, que es el modelo del sistema baso en la asunción de que el efecto aparente no es real. En nuestro ejemplo, la hipótesis nula es que no hay diferencias entre los dos períodos.\n",
    "- El tercer paso es calcular un **p-valor**, que es la probabilidad de ver el efecto aparente asumiendo cierta la hipótesis nula. En nuestro ejemplo, calculamos la diferencia entre las medias y entonces calculamos la probabilidad de ver una diferencia tan grande o más grande bajo la hipótesis nula.\n",
    "- El último paso es interpretar el resultado. Si el p-valor es bajo se dice que el efecto es estadísticamente significativo, lo que significa que es improbable que haya ocurrido por casualidad. Y por tanto inferimos que el efecto es probable que aparezca en la más grande población.\n",
    "\n",
    "<hr>\n",
    "\n",
    "Así que nuestro test estadístico queda:"
   ]
  },
  {
   "cell_type": "code",
   "execution_count": 4,
   "id": "c763955b-ee24-45a4-b56c-d07245c0afd9",
   "metadata": {},
   "outputs": [
    {
     "name": "stdout",
     "output_type": "stream",
     "text": [
      "Tamaños en 2010 m=365 y en 2013 n=365\n",
      "Diferencia de medias es p=1.0986\n"
     ]
    }
   ],
   "source": [
    "n = len(en2013)\n",
    "m = len(en2010)\n",
    "p = en2013.mean() - en2010.mean() \n",
    "print(\"Tamaños en 2010 m={} y en 2013 n={}\".format(m,n))\n",
    "print(\"Diferencia de medias es p={:.4f}\".format(p))"
   ]
  },
  {
   "cell_type": "markdown",
   "id": "6f33349a-dc1f-4a4d-bd11-2352aa6a2478",
   "metadata": {},
   "source": [
    "<hr>\n",
    "\n",
    "Para poder estimar nuestro p-valor podemos hacer lo siguiente: \n",
    "\n",
    "1. Juntar las distribuciones, generar las muestras de tamaño n y calcular sus medias.\n",
    "2. Contar cuantas muestras son mayores que las observadas.\n",
    "\n"
   ]
  },
  {
   "cell_type": "code",
   "execution_count": 10,
   "id": "a5bd17b5-6d6d-4e7a-be91-76b9055624be",
   "metadata": {},
   "outputs": [
    {
     "name": "stdout",
     "output_type": "stream",
     "text": [
      "Tamaños en 2010 m=365 y en 2013 n=365\n",
      "Diferencia de medias es p=1.0986\n",
      "El p-valor es 0.03666666666666667 , 3.6666666666666665% donde p vale 1.09863\n",
      "El efecto es improbable, menor al 5%\n",
      "La hipótesis nula es que las diferencias de medias se mantienen estables entre 2010 y 2013. Un resultado de una media mayor es poco probable.\n",
      "Si se produjese, tendríamos que rechazar la hipótesis nula y respaldar la hipótesis alternativa, que algo hace que los accidentes aumenten.\n"
     ]
    }
   ],
   "source": [
    "n = len(en2013)\n",
    "m = len(en2010)\n",
    "p = en2013.mean() - en2010.mean()\n",
    "print(\"Tamaños en 2010 m={} y en 2013 n={}\".format(m,n))\n",
    "print(\"Diferencia de medias es p={:.4f}\".format(p))\n",
    "\n",
    "# juntando distribuciones\n",
    "juntas = np.concatenate([en2010,en2013])\n",
    "# print(juntas)\n",
    "np.random.shuffle(juntas) #barajando los datos\n",
    "\n",
    "# generando muestras\n",
    "import random\n",
    "s = 300\n",
    "diff = []\n",
    "for i in range(s):\n",
    "    p1 = [random.choice(juntas) for _ in range(n)] # primera muestra. n es el tamaño de la muestra\n",
    "    p2 = [random.choice(juntas) for _ in range(n)] # segunda muestra\n",
    "    diff.append(np.mean(p1)-np.mean(p2)) # NOTA PROPIA: diferencia entre las medias en valor absoluto.\n",
    "\n",
    "diff2 = np.array(diff) # convierte la lista diff  en un array diff2.\n",
    "w1 = np.where(diff2>p) # contamos con las diferencias en media mayores de las observadas. \n",
    "probabilidad = np.shape(w1)[1]/float(s)\n",
    "\n",
    "print(\"El p-valor es {} , {}% donde p vale {:.5f}\".format(probabilidad,100*probabilidad,p))\n",
    "\n",
    "if (probabilidad<0.05):\n",
    "    print(\"El efecto es improbable, menor al 5%\")\n",
    "    print(\"La hipótesis nula es que las diferencias de medias se mantienen estables entre 2010 y 2013. Un resultado de una media mayor es poco probable.\")\n",
    "    print(\"Si se produjese, tendríamos que rechazar la hipótesis nula y respaldar la hipótesis alternativa, que algo hace que los accidentes aumenten.\")\n",
    "else: \n",
    "    print(\"El efecto es probable, mayor al 5%\")\n",
    "    print(\"Por lo tanto entra dentro de lo posible de la hipótesis nula y no podemos rechazarla.\")\n"
   ]
  },
  {
   "cell_type": "markdown",
   "id": "6fb74a2f-fe1b-4981-b374-72ff19e31fb3",
   "metadata": {},
   "source": [
    "<hr><hr>\n",
    "\n",
    "### Interpretación del p-value\n",
    "\n",
    "- El p-valor es la probabilidad de que una observación aparezca solo por casualidad.\n",
    "- Si el p-valor es menor que el nivel de significación (hemos tomado p<0.05) podemos cocnluir dos cosas: o es una rareza o tenemos un efecto real. En todo caso desacredita la hipótesis nula y respalda la hipótesis alternativa.\n",
    "- No hay que confundir **significancia estadística** con **importancia o relevancia en la práctica**. En grandes conjuntos de datos se puede encontrar efectos de significancia estadística poco relevantes en la práctica.\n",
    "- En el ejemplo, hemos considerado una diferencia en las medias $\\delta$ **considerando el signo**. Este test es por tanto ***one sided*** (de un lado).\n",
    "- Si lo consideramos en valor absoluto (las tasas de los accidentes son diferentes) sería un estudio ***two sided***, ya que considera los dos lados de la distribución de las diferencias. \n",
    "\n",
    "#### Aproximación directa\n",
    "\n",
    "El error estandar de la diferencia de las medias de dos muestras se puede construir a partir del error estándar como: \n",
    "<center>$SE_{\\overline{x}_1-\\overline{x}_2}=\\sqrt{\\frac{\\sigma_1^2}{n_1} +\\frac{\\sigma_2^2}{n_2} }$</center>\n",
    "\n",
    "## 4.5) ¿Es el efecto E real?\n",
    "\n",
    "- Hemos definido una **hipótesis nula $H_0$** (el efecto E no es real) y hemos calculado la probabilidad del Efecto E observado bajo la hipótesis nula.\n",
    "- Esa probabilidad es $P(E|H_0)$, donde E es un efecto tan grande o mayor que el efecto aparente. Es el p-valor.\n",
    "- No podemos considerar **la hipótesis alternativa $H_A$** a menos que $P(E|H_0)$ sea menor que un valor de significancia determinado.\n",
    "- Sin embargo, eso no basta. Tendríamos que comparar $P(H_0|E)$ y $P(H_A|E)$ para decir si el efecto es real. Y quizás esto necesite de un estudio bayesiano. \n",
    "\n",
    "<hr><hr>"
   ]
  },
  {
   "cell_type": "markdown",
   "id": "d9216b1a-d7cd-4458-9ca1-13ff789dcffe",
   "metadata": {},
   "source": [
    "<hr>\n",
    "\n",
    "**Otra explicación al p-valor. Pág:** [p-valor en datatab](https://datatab.es/tutorial/p-value) , [p-value in youtube](https://www.youtube.com/watch?v=Xni5YVlgiiQ), [p-value2 en youtube](https://youtu.be/ibmjzFv4K1Y?si=S63CXBcpoEGEVofr) y [p-value3 en Youtube](https://www.youtube.com/watch?v=kW7nrzLpZGo)"
   ]
  },
  {
   "cell_type": "markdown",
   "id": "5ac561f5-f84e-45b9-974e-462b66d7c642",
   "metadata": {},
   "source": [
    "### ¿Qué es el valor p?\n",
    "[p-value3 en Youtube](https://www.youtube.com/watch?v=kW7nrzLpZGo)\n",
    "\n",
    "- **Hipótesis:** aseveración sobre una población\n",
    "- **Prueba de hipótesis:** procedimiento basado en la evidencia de una muestra para probar la aseveración sobre una población.\n",
    "\n",
    "#### Ejemplo ####\n",
    "- Antes: hace 15 años el 27% de los árboles de un bosque contaba con cavidades que podían albergar nidos de aves\n",
    "- Ahora: la cantidad de árboles que contienen cavidades ha aumentado.\n",
    "- Tomamos la hiṕotesis nula como $H_0: p=0.27$, es decir ***aseveramos que no se produce ningún cambio, no hay ningún efecto apreciable***. (Falley 2019)\n",
    "- Y la hipótesis que vamos a investigar es la hipótesis alternativa $H_A: p>0.27$, es decir una hipótesis contraria a $H_0$ indicando que se ha producido un cambio. (Falley 2019, PSU 2023)\n",
    "\n",
    "#### Ejemplo 2\n",
    "\n",
    "- Imagino que tengo un dado en el que quiero saber si está trucado para que salga un cinco.\n",
    "- Planteo la ***hipótesis nula*** como $H_0: p(5) = 1/6$ La probabilidad de que cada vez que lo tiro salga un cinco.\n",
    "- Planteo la ***hipótesis alternativa*** como $H_0: p(5) > 1/6$ La probabilidad de que cada vez que lo tiro salga un cinco mayor de 1/6.\n",
    "- Busco una **evidencia muestral**. Por ejemplo, que en 20 tiradas salga 17 veces 5 y otras tres otra cosa. \"5-5-5-5-5-5-5-5-5-5-5-5-5-5-5-5-5-3-2-6\"\n",
    "- Y ahora me planteo. **Tomando cierta la hipótesis nula** , ¿en qué condiciones de probabilidad obtengo esa muestra? Esa muestra en concreto con 17 veces el número 5 de 20 veces tiene una probabilidad de $P=4.032^{-11}$ muy pequeña. \n",
    "- Ese valor de probabilidad es el p-value, --> $p-value=4.032^{-11}$\n",
    "- Y lo importante es la **significancia estadística**. Como ese valor *es menor* que $\\alpha=0.05$ es muy poco significativo. Entonces esa evidencia tiende *a desacreditar la hipótesis nula y a respaldar la hipótesis alternativa* (Witte & Witte 2017).\n",
    "\n",
    "### Definción de la American Statistical Association\n",
    "- Un valor p es la probabilidad, bajo un model oestadístico específico, de que un valor observado de los datos sea igual o más extremo que el valor observado.\n"
   ]
  },
  {
   "cell_type": "code",
   "execution_count": null,
   "id": "649cd3ab-102a-4212-b989-a752eaebfd7a",
   "metadata": {},
   "outputs": [],
   "source": []
  }
 ],
 "metadata": {
  "kernelspec": {
   "display_name": "Python 3 (ipykernel)",
   "language": "python",
   "name": "python3"
  },
  "language_info": {
   "codemirror_mode": {
    "name": "ipython",
    "version": 3
   },
   "file_extension": ".py",
   "mimetype": "text/x-python",
   "name": "python",
   "nbconvert_exporter": "python",
   "pygments_lexer": "ipython3",
   "version": "3.11.9"
  }
 },
 "nbformat": 4,
 "nbformat_minor": 5
}
