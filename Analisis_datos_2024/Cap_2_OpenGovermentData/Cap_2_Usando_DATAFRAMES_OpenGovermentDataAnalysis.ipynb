{
 "cells": [
  {
   "cell_type": "markdown",
   "id": "f8dbc425-fd11-4139-ad6c-89028eac00a1",
   "metadata": {},
   "source": [
    "# Leyendo dataframes\n",
    "\n",
    "- Creo un nuevo fichero llamado **Open Government Data Analysis**. El fichero de datos **educ_figdp_1_Data.csv** debe estar guardado en la misma carpeta. Ejemplo con dos objetos de datos de dos ficheros distintos. \n"
   ]
  },
  {
   "cell_type": "code",
   "execution_count": 1,
   "id": "bba9d1df-4889-45fd-ad25-3d130357d35b",
   "metadata": {},
   "outputs": [],
   "source": [
    "import pandas as pd\n",
    "import numpy as np\n",
    "import matplotlib.pyplot as pt"
   ]
  },
  {
   "cell_type": "markdown",
   "id": "2ad68b2b-ea9d-4599-abb8-76e09979fe00",
   "metadata": {},
   "source": [
    "- na_values=”:” → si en el fichero hay un símbolo que representa “no available” value.\n",
    "- usecols → listado de columnas que usaremos. Si no lo uso, coge todas las columnas. \n",
    "- Tenemos más funciones de lectura **read_excel()** → leer excel, **read_hdf()** → formato hdf5, **read_table()** → ficheros tabulados (¿tsv?), **read_clipboard()** → del portapapeles\n",
    "- datos2.head() → 5 primeras filas, y si datos2.head(n) → n filas. Si datos2.tail() → últimas filas. \n",
    "- datos2.index, datos2.columns → retorna objetos / listas con los valores de las columnas e índices. Se pueden cambiar. "
   ]
  },
  {
   "cell_type": "code",
   "execution_count": null,
   "id": "1d1da096-f9b4-4872-a9b4-867d1e1301c9",
   "metadata": {},
   "outputs": [],
   "source": [
    "datos = pd.read_csv('educ_figdp_1_Data.csv', na_values=':',usecols=['TIME','GEO','Value'])\n",
    "# datos2 = pd.read_csv('educ_uoe_fine09_page_linear.csv',na_values=':',usecols=['DATAFLOW','freq','geo','TIME_PERIOD','OBS_VALUE'])\n",
    "datos3 = pd.read_csv('educ_uoe_fine09_page_linear.csv',na_values=':')"
   ]
  },
  {
   "cell_type": "markdown",
   "id": "83521986-075a-4959-9f51-46e3761afb13",
   "metadata": {},
   "source": [
    "- **datos2.describe()** → esta función lanza datos estadísticos de las columnas de datos numéricos. \n"
   ]
  },
  {
   "cell_type": "code",
   "execution_count": 3,
   "id": "94ac2fe7-2778-4fd7-ab0d-0fc90cc45df3",
   "metadata": {},
   "outputs": [
    {
     "data": {
      "text/html": [
       "<div>\n",
       "<style scoped>\n",
       "    .dataframe tbody tr th:only-of-type {\n",
       "        vertical-align: middle;\n",
       "    }\n",
       "\n",
       "    .dataframe tbody tr th {\n",
       "        vertical-align: top;\n",
       "    }\n",
       "\n",
       "    .dataframe thead th {\n",
       "        text-align: right;\n",
       "    }\n",
       "</style>\n",
       "<table border=\"1\" class=\"dataframe\">\n",
       "  <thead>\n",
       "    <tr style=\"text-align: right;\">\n",
       "      <th></th>\n",
       "      <th>TIME_PERIOD</th>\n",
       "      <th>OBS_VALUE</th>\n",
       "    </tr>\n",
       "  </thead>\n",
       "  <tbody>\n",
       "    <tr>\n",
       "      <th>count</th>\n",
       "      <td>255.000000</td>\n",
       "      <td>255.000000</td>\n",
       "    </tr>\n",
       "    <tr>\n",
       "      <th>mean</th>\n",
       "      <td>2016.070588</td>\n",
       "      <td>6148.242745</td>\n",
       "    </tr>\n",
       "    <tr>\n",
       "      <th>std</th>\n",
       "      <td>2.538467</td>\n",
       "      <td>4798.682941</td>\n",
       "    </tr>\n",
       "    <tr>\n",
       "      <th>min</th>\n",
       "      <td>2012.000000</td>\n",
       "      <td>105.400000</td>\n",
       "    </tr>\n",
       "    <tr>\n",
       "      <th>25%</th>\n",
       "      <td>2014.000000</td>\n",
       "      <td>2643.750000</td>\n",
       "    </tr>\n",
       "    <tr>\n",
       "      <th>50%</th>\n",
       "      <td>2016.000000</td>\n",
       "      <td>4351.700000</td>\n",
       "    </tr>\n",
       "    <tr>\n",
       "      <th>75%</th>\n",
       "      <td>2018.000000</td>\n",
       "      <td>7681.650000</td>\n",
       "    </tr>\n",
       "    <tr>\n",
       "      <th>max</th>\n",
       "      <td>2020.000000</td>\n",
       "      <td>20269.900000</td>\n",
       "    </tr>\n",
       "  </tbody>\n",
       "</table>\n",
       "</div>"
      ],
      "text/plain": [
       "       TIME_PERIOD     OBS_VALUE\n",
       "count   255.000000    255.000000\n",
       "mean   2016.070588   6148.242745\n",
       "std       2.538467   4798.682941\n",
       "min    2012.000000    105.400000\n",
       "25%    2014.000000   2643.750000\n",
       "50%    2016.000000   4351.700000\n",
       "75%    2018.000000   7681.650000\n",
       "max    2020.000000  20269.900000"
      ]
     },
     "execution_count": 3,
     "metadata": {},
     "output_type": "execute_result"
    }
   ],
   "source": [
    "datos2.describe()"
   ]
  },
  {
   "cell_type": "markdown",
   "id": "bdcf456a-8fba-49cb-979d-17206663e089",
   "metadata": {},
   "source": [
    "## Filtrando y manipulando datos\n",
    "\n",
    "- **datos2['DATAFLOW']** → selecciono sólo una columna. \n",
    "- **datos2[30:35]** → posiciones de la 30 a la 34 (el último no cuenta)\n",
    "- **datos2.loc[40:50,['TIME_PERIOD','OBS_VALUE']]** → para obtener un subDataFrame (ix está suprimido; se usa loc).\n",
    "### Filtrando datos \n",
    "- **datos2[datos2['OBS_VALUE']>5000].head()** → sólo se muestra de datos los registros en los que los valores de la columna OBS_VALUE son mayores de 5000. Se crea una máscara True para aquellas filas que cumplan la condición y False para las que no. \n",
    "- Se usa **<span style=\"color:red\">isnull()</span>**   para encontrar valores no disponibles. Por ejemplo **datos[datos['Value'].isnull()].head()** → registros cuyos valores en la columna Value no están disponibles (**NaN**).\n",
    "### Manipulando datos\n",
    "- Aplicamos las funciones de la tabla siguiente a filas o columnas. Se agregan así datos, dando un resultado. Son funciones de agregación.\n",
    "\n",
    "<img title=\"Tabla de funciones\" alt=\"Tabla de funciones\" src=\"tabla2_1.png\">\n",
    "\n",
    "### Las funciones también pueden aplicarse a una dataframe\n",
    "- **datos2.max(axis=0)** → el máximo de cada columna\n",
    "- **datos2.max(axis=1)** → el máximo por filas.\n",
    "- Hay una diferencia entre **datos2.max()** → función de pandas y **max(datos2)** → función de python. En el primer caso se excluyen los datos NaN ; en el segundo no.\n",
    "\n",
    "\n",
    "\n"
   ]
  },
  {
   "cell_type": "code",
   "execution_count": 4,
   "id": "a80c4508-5dbe-4ad8-bc09-ef7e1374a4a3",
   "metadata": {},
   "outputs": [
    {
     "data": {
      "text/plain": [
       "DATAFLOW       ESTAT:EDUC_UOE_FINE09(1.0)\n",
       "freq                                    A\n",
       "geo                                    UK\n",
       "TIME_PERIOD                          2020\n",
       "OBS_VALUE                         20269.9\n",
       "dtype: object"
      ]
     },
     "execution_count": 4,
     "metadata": {},
     "output_type": "execute_result"
    }
   ],
   "source": [
    "# datos2[\"DATAFLOW\"].tail()\n",
    "# datos2[30:35]\n",
    "# datos2.loc[40:50,['TIME_PERIOD','OBS_VALUE']].head()\n",
    "datos2.max(axis=0)\n",
    "# datos2.max(axis=1)"
   ]
  },
  {
   "cell_type": "markdown",
   "id": "0fbc02b1-d771-4780-83f7-fbfbfa1cec8c",
   "metadata": {},
   "source": [
    "#### Operaciones por columnas y filas\n",
    "- Podemos hacer operaciones por columnas o filas → s = **datos['Value']/1000 y s.head()**\n"
   ]
  },
  {
   "cell_type": "code",
   "execution_count": 5,
   "id": "1bbe0364-c6d5-4410-88ab-466039ef07bc",
   "metadata": {},
   "outputs": [
    {
     "data": {
      "text/plain": [
       "0        NaN\n",
       "1        NaN\n",
       "2    0.00500\n",
       "3    0.00503\n",
       "4    0.00495\n",
       "Name: Value, dtype: float64"
      ]
     },
     "execution_count": 5,
     "metadata": {},
     "output_type": "execute_result"
    }
   ],
   "source": [
    "s = datos['Value']/1000\n",
    "s.head()\n"
   ]
  },
  {
   "cell_type": "markdown",
   "id": "0237da93-fc29-4159-b4e7-7b1872c11144",
   "metadata": {},
   "source": [
    "## Usando apply y drop\n",
    "\n",
    "- Crear una nueva columna:  \n",
    "    - **datos['Normalizado']=datos['Value']/datos['Value'].max()**\n",
    "- Para eliminar unas filas o unas columnas usamos el método **drop**. axis=0 para filas y axis=1 para columnas. Se devuelve un dataframe y no se borra ese contenido del original, a menos que se use inplace = True. \n",
    "    - **datos.drop('Normalizado',axis=1,inplace=True)**\n",
    "- Borrado de filas mediante sus índices:\n",
    "    - **datos.drop(datos.index[3:20],axis=0,inplace=True)**\n",
    "- Para crear una nueva fila: (append está en desuso y se usa concat)\n"
   ]
  },
  {
   "cell_type": "markdown",
   "id": "f105da16-20a8-474a-ace4-1f977d01b0d6",
   "metadata": {},
   "source": [
    "#### Ejemplo de concat"
   ]
  },
  {
   "cell_type": "code",
   "execution_count": 6,
   "id": "2d8ed925-f435-4965-ab70-2f7823128ec4",
   "metadata": {},
   "outputs": [
    {
     "data": {
      "text/html": [
       "<div>\n",
       "<style scoped>\n",
       "    .dataframe tbody tr th:only-of-type {\n",
       "        vertical-align: middle;\n",
       "    }\n",
       "\n",
       "    .dataframe tbody tr th {\n",
       "        vertical-align: top;\n",
       "    }\n",
       "\n",
       "    .dataframe thead th {\n",
       "        text-align: right;\n",
       "    }\n",
       "</style>\n",
       "<table border=\"1\" class=\"dataframe\">\n",
       "  <thead>\n",
       "    <tr style=\"text-align: right;\">\n",
       "      <th></th>\n",
       "      <th>TIME</th>\n",
       "      <th>GEO</th>\n",
       "      <th>Value</th>\n",
       "    </tr>\n",
       "  </thead>\n",
       "  <tbody>\n",
       "    <tr>\n",
       "      <th>380</th>\n",
       "      <td>2008</td>\n",
       "      <td>Finland</td>\n",
       "      <td>6.10</td>\n",
       "    </tr>\n",
       "    <tr>\n",
       "      <th>381</th>\n",
       "      <td>2009</td>\n",
       "      <td>Finland</td>\n",
       "      <td>6.81</td>\n",
       "    </tr>\n",
       "    <tr>\n",
       "      <th>382</th>\n",
       "      <td>2010</td>\n",
       "      <td>Finland</td>\n",
       "      <td>6.85</td>\n",
       "    </tr>\n",
       "    <tr>\n",
       "      <th>383</th>\n",
       "      <td>2011</td>\n",
       "      <td>Finland</td>\n",
       "      <td>6.76</td>\n",
       "    </tr>\n",
       "    <tr>\n",
       "      <th>384</th>\n",
       "      <td>2100</td>\n",
       "      <td>España</td>\n",
       "      <td>300.00</td>\n",
       "    </tr>\n",
       "  </tbody>\n",
       "</table>\n",
       "</div>"
      ],
      "text/plain": [
       "     TIME      GEO   Value\n",
       "380  2008  Finland    6.10\n",
       "381  2009  Finland    6.81\n",
       "382  2010  Finland    6.85\n",
       "383  2011  Finland    6.76\n",
       "384  2100   España  300.00"
      ]
     },
     "execution_count": 6,
     "metadata": {},
     "output_type": "execute_result"
    }
   ],
   "source": [
    "midato = [[2100,\"España\",300]] # listas de listas\n",
    "datos_new = pd.DataFrame(midato,columns=['TIME','GEO','Value']) # creo un dataframe con mi dato y las mismas columnas que datos\n",
    "datos_new_2 = pd.concat([datos,datos_new], ignore_index=True) # formato de lista. Ojo. \n",
    "datos_new_2.tail() ## Observar como se agrega al final de la lista"
   ]
  },
  {
   "cell_type": "markdown",
   "id": "00ac5655-37dd-4c1b-80ec-b1c57ecd47aa",
   "metadata": {},
   "source": [
    "#### Ejemplo del uso de apply\n",
    "\n",
    "Se puede usar apply para aplicar una función a un conjunto de datos.\n"
   ]
  },
  {
   "cell_type": "code",
   "execution_count": 7,
   "id": "6b45885d-3127-4d7e-aa04-214c8ad07c5d",
   "metadata": {},
   "outputs": [
    {
     "name": "stdout",
     "output_type": "stream",
     "text": [
      "0         NaN\n",
      "1         NaN\n",
      "2    2.236068\n",
      "3    2.242766\n",
      "4    2.224860\n",
      "Name: Value, dtype: float64\n",
      "0         NaN\n",
      "1         NaN\n",
      "2    2.236068\n",
      "3    2.242766\n",
      "4    2.224860\n",
      "Name: Value, dtype: float64\n"
     ]
    }
   ],
   "source": [
    "s = datos['Value'].apply(np.sqrt)\n",
    "ss = datos['Value'].apply(lambda n: n ** 0.5)\n",
    "print(ss.head())\n",
    "print(s.head())"
   ]
  },
  {
   "cell_type": "markdown",
   "id": "d7d786ca-db33-4012-88a7-481b88d1d0fa",
   "metadata": {},
   "source": [
    "## Quitando valores NaN y ordenando\n",
    "\n",
    "- Obtener valores NaN →   **datosNaN=datos[datos['Value'].isnull()]**\n",
    "- Quedarse con valores sin NaN → **datosNoNaN=datos[datos['Value'].notna()]**\n",
    "\n",
    "#### Para remover columnas con NaN:\n",
    "\n",
    "- **datosSINNaN = datos.dropna(how=\"any\",subset=['Value'])**\n",
    "- **how any**, cualquier fila que contenga un NaN, subset → en la columna de esos valores. \n"
   ]
  },
  {
   "cell_type": "code",
   "execution_count": 8,
   "id": "8e69e778-cc44-4d5e-9716-7aaa82dadbd7",
   "metadata": {},
   "outputs": [],
   "source": [
    "datosNaN = datos[datos['Value'].isnull()]\n",
    "datosNoNaN=datos[datos['Value'].notna()]\n",
    "# print(datosNaN)\n",
    "# print(datosNoNaN)\n",
    "datosSINNaN = datos.dropna(how=\"any\",subset=['Value'])\n",
    "# print(datosSINNaN)"
   ]
  },
  {
   "cell_type": "markdown",
   "id": "0e87288d-1932-4e68-879b-8e5931f3e25e",
   "metadata": {},
   "source": [
    "#### Para, en vez de quitarlos, rellenarlos con un valor \n",
    "- **datosSINNaN = datos.fillna(value={'Value':0})** → diccionario con key nombre columna y valor.\n"
   ]
  },
  {
   "cell_type": "code",
   "execution_count": 9,
   "id": "4ea04347-aedb-47c1-808c-bc003d61c584",
   "metadata": {},
   "outputs": [],
   "source": [
    "datosSINNaN = datos.fillna(value={'Value':0}) \n",
    "# print(datosSINNaN)"
   ]
  },
  {
   "cell_type": "markdown",
   "id": "7ca0f29f-b5c4-4064-a813-a9688688c107",
   "metadata": {},
   "source": [
    "#### Para ordenar los datos\n",
    "- **datos.sort_values(by='Value',ascending=False,inplace=True)** → por columna, descendente y se sustituye datos por el dataframe ordenado.0\n",
    "- **datos.sort_index(axis=0, ascending=True, inplace=True)** → volver a ordenarlos por el índice."
   ]
  },
  {
   "cell_type": "code",
   "execution_count": 10,
   "id": "07330809-ccdf-43a3-9ea3-e333a3435202",
   "metadata": {},
   "outputs": [],
   "source": [
    "datos.sort_values(by='Value',ascending=False,inplace=True)\n",
    "# print(datos.head(10))\n",
    "datos.sort_index(axis=0, ascending=True, inplace=True)\n",
    "# print(datos.head(10))\n"
   ]
  },
  {
   "cell_type": "markdown",
   "id": "a332beea-2685-450d-a766-cc2706b417f0",
   "metadata": {},
   "source": [
    "## Agrupando y reestructurando datos\n",
    "\n",
    "- Para agrupar datos, según el resultado de una función:\n",
    "    - **datosAgrupados = datos[['GEO','Value']].groupby('GEO').mean()** → agrupa por las columnas GEO y Value, y por cada valor de GEO obtiene la media de Value."
   ]
  },
  {
   "cell_type": "code",
   "execution_count": 11,
   "id": "ca716bf3-eb6a-434f-b2cf-53b19de266bf",
   "metadata": {},
   "outputs": [
    {
     "data": {
      "text/html": [
       "<div>\n",
       "<style scoped>\n",
       "    .dataframe tbody tr th:only-of-type {\n",
       "        vertical-align: middle;\n",
       "    }\n",
       "\n",
       "    .dataframe tbody tr th {\n",
       "        vertical-align: top;\n",
       "    }\n",
       "\n",
       "    .dataframe thead th {\n",
       "        text-align: right;\n",
       "    }\n",
       "</style>\n",
       "<table border=\"1\" class=\"dataframe\">\n",
       "  <thead>\n",
       "    <tr style=\"text-align: right;\">\n",
       "      <th></th>\n",
       "      <th>Value</th>\n",
       "    </tr>\n",
       "    <tr>\n",
       "      <th>GEO</th>\n",
       "      <th></th>\n",
       "    </tr>\n",
       "  </thead>\n",
       "  <tbody>\n",
       "    <tr>\n",
       "      <th>Austria</th>\n",
       "      <td>5.618333</td>\n",
       "    </tr>\n",
       "    <tr>\n",
       "      <th>Belgium</th>\n",
       "      <td>6.189091</td>\n",
       "    </tr>\n",
       "    <tr>\n",
       "      <th>Bulgaria</th>\n",
       "      <td>4.093333</td>\n",
       "    </tr>\n",
       "    <tr>\n",
       "      <th>Cyprus</th>\n",
       "      <td>7.023333</td>\n",
       "    </tr>\n",
       "    <tr>\n",
       "      <th>Czech Republic</th>\n",
       "      <td>4.168333</td>\n",
       "    </tr>\n",
       "  </tbody>\n",
       "</table>\n",
       "</div>"
      ],
      "text/plain": [
       "                   Value\n",
       "GEO                     \n",
       "Austria         5.618333\n",
       "Belgium         6.189091\n",
       "Bulgaria        4.093333\n",
       "Cyprus          7.023333\n",
       "Czech Republic  4.168333"
      ]
     },
     "execution_count": 11,
     "metadata": {},
     "output_type": "execute_result"
    }
   ],
   "source": [
    "datosAgrupados = datos[['GEO','Value']].groupby('GEO').mean()\n",
    "datosAgrupados.head()"
   ]
  },
  {
   "cell_type": "markdown",
   "id": "b3bced59-de75-4aa2-9eb4-17b343a519db",
   "metadata": {},
   "source": [
    "### Reestructurando datos\n",
    "- Podemos reestructurar nuestros datos para que parezcan más una hoja de cálculo:\n",
    "    - **datos_filtrados = datos[datos['TIME']>2006]** → filtro por años\n",
    "    - **hoja_datos=pd.pivot_table(datos_filtrados, values='Value', index='GEO', columns='TIME')** → valores de Value, índices lo de la columna GEO y columnas los años.\n",
    "- Se puede hacer una agregación (si hay más de un valor con columna e index) usando una función de agregación aggr_function dentro de pivot_table\n",
    "- Podemos usar loc para localizar datos →  **hoja_datos.loc[['Spain','Belgium'],[2007,2008]]**\n"
   ]
  },
  {
   "cell_type": "code",
   "execution_count": 12,
   "id": "37eea4a7-a17c-4f9d-9345-aa5fde39bcff",
   "metadata": {},
   "outputs": [
    {
     "data": {
      "text/html": [
       "<div>\n",
       "<style scoped>\n",
       "    .dataframe tbody tr th:only-of-type {\n",
       "        vertical-align: middle;\n",
       "    }\n",
       "\n",
       "    .dataframe tbody tr th {\n",
       "        vertical-align: top;\n",
       "    }\n",
       "\n",
       "    .dataframe thead th {\n",
       "        text-align: right;\n",
       "    }\n",
       "</style>\n",
       "<table border=\"1\" class=\"dataframe\">\n",
       "  <thead>\n",
       "    <tr style=\"text-align: right;\">\n",
       "      <th>TIME</th>\n",
       "      <th>2007</th>\n",
       "      <th>2008</th>\n",
       "    </tr>\n",
       "    <tr>\n",
       "      <th>GEO</th>\n",
       "      <th></th>\n",
       "      <th></th>\n",
       "    </tr>\n",
       "  </thead>\n",
       "  <tbody>\n",
       "    <tr>\n",
       "      <th>Spain</th>\n",
       "      <td>4.34</td>\n",
       "      <td>4.62</td>\n",
       "    </tr>\n",
       "    <tr>\n",
       "      <th>Belgium</th>\n",
       "      <td>6.00</td>\n",
       "      <td>6.43</td>\n",
       "    </tr>\n",
       "  </tbody>\n",
       "</table>\n",
       "</div>"
      ],
      "text/plain": [
       "TIME     2007  2008\n",
       "GEO                \n",
       "Spain    4.34  4.62\n",
       "Belgium  6.00  6.43"
      ]
     },
     "execution_count": 12,
     "metadata": {},
     "output_type": "execute_result"
    }
   ],
   "source": [
    "datos_filtrados = datos[datos['TIME']>2006]\n",
    "hoja_datos=pd.pivot_table(datos_filtrados, values='Value', index='GEO', columns='TIME')\n",
    "hoja_datos.loc[['Spain','Belgium'],[2007,2008]]"
   ]
  },
  {
   "cell_type": "markdown",
   "id": "87d6aed6-dcb4-41cf-a6d0-2eee7270bd89",
   "metadata": {},
   "source": [
    "## Ranking\n",
    "\n",
    "A una tabla pivote, a la que quito algunas referencias y modifico otra, y quito las filas NaN, puedo hacer un ranking. Hay varios métodos: en el “first“ es el orden en el que aparecen en el array. Se muestra por años.\n"
   ]
  },
  {
   "cell_type": "code",
   "execution_count": 13,
   "id": "e2216c07-17ac-4370-8347-cc319cf48af7",
   "metadata": {},
   "outputs": [
    {
     "data": {
      "text/html": [
       "<div>\n",
       "<style scoped>\n",
       "    .dataframe tbody tr th:only-of-type {\n",
       "        vertical-align: middle;\n",
       "    }\n",
       "\n",
       "    .dataframe tbody tr th {\n",
       "        vertical-align: top;\n",
       "    }\n",
       "\n",
       "    .dataframe thead th {\n",
       "        text-align: right;\n",
       "    }\n",
       "</style>\n",
       "<table border=\"1\" class=\"dataframe\">\n",
       "  <thead>\n",
       "    <tr style=\"text-align: right;\">\n",
       "      <th>TIME</th>\n",
       "      <th>2007</th>\n",
       "      <th>2008</th>\n",
       "      <th>2009</th>\n",
       "      <th>2010</th>\n",
       "      <th>2011</th>\n",
       "    </tr>\n",
       "    <tr>\n",
       "      <th>GEO</th>\n",
       "      <th></th>\n",
       "      <th></th>\n",
       "      <th></th>\n",
       "      <th></th>\n",
       "      <th></th>\n",
       "    </tr>\n",
       "  </thead>\n",
       "  <tbody>\n",
       "    <tr>\n",
       "      <th>Austria</th>\n",
       "      <td>7.0</td>\n",
       "      <td>11.0</td>\n",
       "      <td>7.0</td>\n",
       "      <td>8.0</td>\n",
       "      <td>8.0</td>\n",
       "    </tr>\n",
       "    <tr>\n",
       "      <th>Belgium</th>\n",
       "      <td>4.0</td>\n",
       "      <td>3.0</td>\n",
       "      <td>4.0</td>\n",
       "      <td>5.0</td>\n",
       "      <td>5.0</td>\n",
       "    </tr>\n",
       "    <tr>\n",
       "      <th>Bulgaria</th>\n",
       "      <td>21.0</td>\n",
       "      <td>20.0</td>\n",
       "      <td>20.0</td>\n",
       "      <td>22.0</td>\n",
       "      <td>22.0</td>\n",
       "    </tr>\n",
       "    <tr>\n",
       "      <th>Cyprus</th>\n",
       "      <td>2.0</td>\n",
       "      <td>2.0</td>\n",
       "      <td>2.0</td>\n",
       "      <td>2.0</td>\n",
       "      <td>3.0</td>\n",
       "    </tr>\n",
       "    <tr>\n",
       "      <th>Czech Republic</th>\n",
       "      <td>20.0</td>\n",
       "      <td>21.0</td>\n",
       "      <td>21.0</td>\n",
       "      <td>20.0</td>\n",
       "      <td>19.0</td>\n",
       "    </tr>\n",
       "  </tbody>\n",
       "</table>\n",
       "</div>"
      ],
      "text/plain": [
       "TIME            2007  2008  2009  2010  2011\n",
       "GEO                                         \n",
       "Austria          7.0  11.0   7.0   8.0   8.0\n",
       "Belgium          4.0   3.0   4.0   5.0   5.0\n",
       "Bulgaria        21.0  20.0  20.0  22.0  22.0\n",
       "Cyprus           2.0   2.0   2.0   2.0   3.0\n",
       "Czech Republic  20.0  21.0  21.0  20.0  19.0"
      ]
     },
     "execution_count": 13,
     "metadata": {},
     "output_type": "execute_result"
    }
   ],
   "source": [
    "## de datos_filtrados... Trabajo con ellos\n",
    "## Y con la hoja de datos\n",
    "hoja_datos_limpia=hoja_datos.drop([\n",
    "'Euro area (13 countries)',\n",
    "'Euro area (15 countries)',\n",
    "'Euro area (17 countries)',\n",
    "'Euro area (18 countries)',\n",
    "'European Union (25 countries)',\n",
    "'European Union (27 countries)',\n",
    "'European Union (28 countries)'\n",
    "], axis = 0)\n",
    "\n",
    "hoja_datos_limpia = hoja_datos_limpia . rename ( index = { 'Germany (until 1990 former territory of the FRG)': 'Germany'}) # cambio la referencia de Alemania\n",
    "hoja_datos_limpia=hoja_datos_limpia.dropna() # Quito filas con Na\n",
    "\n",
    "hoja_datos_limpia.rank(ascending = False, method=\"first\").head() # Muestro el ranking.\n"
   ]
  },
  {
   "cell_type": "markdown",
   "id": "2d8e33f4-9389-485b-b6bf-215a4d2f5322",
   "metadata": {},
   "source": [
    "Aplico la suma de columnas a la tabla pivote y aplico rank con el método dense. Ordeno valores. Los empatados tienen el mismo ranking con dense\n"
   ]
  },
  {
   "cell_type": "code",
   "execution_count": 14,
   "id": "81dabc8d-8b44-48bd-a142-18ebacf48165",
   "metadata": {},
   "outputs": [
    {
     "data": {
      "text/plain": [
       "GEO\n",
       "Austria            8.0\n",
       "Belgium            4.0\n",
       "Bulgaria          20.0\n",
       "Cyprus             2.0\n",
       "Czech Republic    19.0\n",
       "Denmark            1.0\n",
       "Estonia           10.0\n",
       "Finland            3.0\n",
       "France             7.0\n",
       "Germany           16.0\n",
       "Hungary           15.0\n",
       "Ireland            6.0\n",
       "Italy             18.0\n",
       "Latvia            12.0\n",
       "Lithuania         13.0\n",
       "Malta              5.0\n",
       "Netherlands        7.0\n",
       "Poland            14.0\n",
       "Portugal          11.0\n",
       "Slovakia          21.0\n",
       "Slovenia           9.0\n",
       "Spain             17.0\n",
       "dtype: float64"
      ]
     },
     "execution_count": 14,
     "metadata": {},
     "output_type": "execute_result"
    }
   ],
   "source": [
    "totalsum = hoja_datos_limpia.sum(axis=1) # sumo por columnas\n",
    "totalsum.rank(ascending=False,method=\"dense\")\n"
   ]
  },
  {
   "cell_type": "markdown",
   "id": "722450f3-ce28-4049-aedc-d5021208b847",
   "metadata": {},
   "source": [
    "## <span style=\"color:darkviolet\">Plotting. Datos sumados y ordenados</span>"
   ]
  },
  {
   "cell_type": "code",
   "execution_count": 15,
   "id": "e2f88149-6865-44b9-938c-5a4953d7abd1",
   "metadata": {},
   "outputs": [
    {
     "data": {
      "text/plain": [
       "<Axes: title={'center': 'Gráfica sumando los años'}, xlabel='GEO'>"
      ]
     },
     "execution_count": 15,
     "metadata": {},
     "output_type": "execute_result"
    },
    {
     "data": {
      "image/png": "[encoded data removed]",
      "text/plain": [
       "<Figure size 640x480 with 1 Axes>"
      ]
     },
     "metadata": {},
     "output_type": "display_data"
    }
   ],
   "source": [
    "totalsum = hoja_datos_limpia.sum(axis=1).sort_values(ascending=False)\n",
    "totalsum.plot(kind=\"bar\",style=\"b\",alpha=0.4,title=\"Gráfica sumando los años\")"
   ]
  },
  {
   "cell_type": "markdown",
   "id": "70c3d2dc-6082-46c0-bca4-c25f7a9420f4",
   "metadata": {},
   "source": [
    "## <span style=\"color:darkviolet\">Plotting. Con colores</span>"
   ]
  },
  {
   "cell_type": "code",
   "execution_count": 16,
   "id": "611a5584-ee93-426e-8b4e-f22f787d13ef",
   "metadata": {},
   "outputs": [
    {
     "data": {
      "text/plain": [
       "<Axes: title={'center': 'Gráfica 2'}, xlabel='GEO'>"
      ]
     },
     "execution_count": 16,
     "metadata": {},
     "output_type": "execute_result"
    },
    {
     "data": {
      "image/png": "[encoded data removed]",
      "text/plain": [
       "<Figure size 640x480 with 1 Axes>"
      ]
     },
     "metadata": {},
     "output_type": "display_data"
    }
   ],
   "source": [
    "totalsum.plot(kind=\"bar\",color=\"#23F813\",alpha=0.8,title=\"Gráfica 2\")"
   ]
  },
  {
   "cell_type": "markdown",
   "id": "3d4586d5-6329-4d5e-b517-a105aabb87cf",
   "metadata": {},
   "source": [
    "## <span style=\"color:darkviolet\">Plotting. Más elaborado.</span>"
   ]
  },
  {
   "cell_type": "code",
   "execution_count": 19,
   "id": "0d6d1e1a-338d-4219-bea6-41b02c3917a5",
   "metadata": {},
   "outputs": [
    {
     "data": {
      "text/plain": [
       "<matplotlib.legend.Legend at 0x7b9f65039190>"
      ]
     },
     "execution_count": 19,
     "metadata": {},
     "output_type": "execute_result"
    },
    {
     "data": {
      "image/png": "[encoded data removed]",
      "text/plain": [
       "<Figure size 640x480 with 1 Axes>"
      ]
     },
     "metadata": {},
     "output_type": "display_data"
    }
   ],
   "source": [
    "micolores=['g','b','y','#F26198','r','m']\n",
    "ax = hoja_datos_limpia.plot( kind=\"barh\", stacked=True,color = micolores, title = \"Gráfica de columnas apiladas\")\n",
    "ax.legend (loc = 'center left' , bbox_to_anchor=(0.8 , 0.8))\n"
   ]
  },
  {
   "cell_type": "code",
   "execution_count": null,
   "id": "8bb775d3-a255-413b-8c16-70ceef557229",
   "metadata": {},
   "outputs": [],
   "source": []
  },
  {
   "cell_type": "markdown",
   "id": "e43fda97",
   "metadata": {},
   "source": [
    "ghgfhgfh ffdghfd\n"
   ]
  }
 ],
 "metadata": {
  "kernelspec": {
   "display_name": "base",
   "language": "python",
   "name": "python3"
  },
  "language_info": {
   "codemirror_mode": {
    "name": "ipython",
    "version": 3
   },
   "file_extension": ".py",
   "mimetype": "text/x-python",
   "name": "python",
   "nbconvert_exporter": "python",
   "pygments_lexer": "ipython3",
   "version": "3.11.9"
  }
 },
 "nbformat": 4,
 "nbformat_minor": 5
}
