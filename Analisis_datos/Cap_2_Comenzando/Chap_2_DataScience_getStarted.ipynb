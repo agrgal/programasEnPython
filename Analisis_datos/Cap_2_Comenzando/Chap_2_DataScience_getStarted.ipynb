{
 "cells": [
  {
   "cell_type": "markdown",
   "id": "83189390-eb84-4390-9e35-38f1e154cde6",
   "metadata": {},
   "source": [
    "## Usando JUPITER NOTEBOOK\n",
    "\n",
    "- Usaré anaconda, que ya tenía instalado\n",
    "- Creo un nuevo entorno llamado estudiando con python 3.11.9 (aunque en el libro creo que va a trabajar con 2.7)\n",
    "- En ese entorno, instalo las últimas versiones de JupyterLab (4.0.11) y de Jupyter Notebook (7.0.8)\n",
    "- Abro Jupyter Notebook (http://localhost:8888/tree)\n",
    "- Creo una carpeta en /home/aurelio/Jupyter_Notebooks_Estudiando. En él creo el primer documento. Uso el kernel python que necesito, 3.11.9. \n",
    "- Renombro el documento como DataScience-GetStarted.  Importo tres bibliotecas…\n",
    "\n",
    "**NOTA**: En anaconda >> environment, debo instalar los paquetes numpy, matplotlib y pandas. Importante: acepta pandas no panda"
   ]
  },
  {
   "cell_type": "code",
   "execution_count": null,
   "id": "c63e2591-65a2-4bc8-bd4d-389e2b4319da",
   "metadata": {
    "scrolled": true
   },
   "outputs": [],
   "source": [
    "import pandas as pd\n",
    "import numpy as np\n",
    "import matplotlib.pyplot as pt"
   ]
  },
  {
   "cell_type": "code",
   "execution_count": 22,
   "id": "e3d823fb-6d50-4bca-b62a-8919a7c5717e",
   "metadata": {},
   "outputs": [],
   "source": [
    "data = {'year': [2010 , 2011 , 2012 ,2010 , 2011 , 2012 ,2010 , 2011 , 2012]\n",
    "         ,'team': ['FCBarcelona', 'FCBarcelona','FCBarcelona', 'RMadrid'\n",
    "                   ,'RMadrid', 'RMadrid','ValenciaCF', 'ValenciaCF','ValenciaCF']\n",
    "         ,'wins':[30 , 28 , 32 , 29 , 32 , 26 , 21 , 17 , 19] \n",
    "         ,'draws':[6 , 7 , 4 , 5 , 4 , 7 , 8 , 10 , 8]\n",
    "         ,'losses': [2 , 3 , 2 , 4 , 2 , 5 , 9 , 11 , 11]\n",
    "       }\n",
    "football=pd.DataFrame( data , columns = ['year','team','wins','draws','losses'])"
   ]
  },
  {
   "cell_type": "code",
   "execution_count": 23,
   "id": "841ea363-42c4-478c-80ba-a0ceee05d508",
   "metadata": {},
   "outputs": [
    {
     "data": {
      "text/html": [
       "<div>\n",
       "<style scoped>\n",
       "    .dataframe tbody tr th:only-of-type {\n",
       "        vertical-align: middle;\n",
       "    }\n",
       "\n",
       "    .dataframe tbody tr th {\n",
       "        vertical-align: top;\n",
       "    }\n",
       "\n",
       "    .dataframe thead th {\n",
       "        text-align: right;\n",
       "    }\n",
       "</style>\n",
       "<table border=\"1\" class=\"dataframe\">\n",
       "  <thead>\n",
       "    <tr style=\"text-align: right;\">\n",
       "      <th></th>\n",
       "      <th>year</th>\n",
       "      <th>team</th>\n",
       "      <th>wins</th>\n",
       "      <th>draws</th>\n",
       "      <th>losses</th>\n",
       "    </tr>\n",
       "  </thead>\n",
       "  <tbody>\n",
       "    <tr>\n",
       "      <th>0</th>\n",
       "      <td>2010</td>\n",
       "      <td>FCBarcelona</td>\n",
       "      <td>30</td>\n",
       "      <td>6</td>\n",
       "      <td>2</td>\n",
       "    </tr>\n",
       "    <tr>\n",
       "      <th>1</th>\n",
       "      <td>2011</td>\n",
       "      <td>FCBarcelona</td>\n",
       "      <td>28</td>\n",
       "      <td>7</td>\n",
       "      <td>3</td>\n",
       "    </tr>\n",
       "    <tr>\n",
       "      <th>2</th>\n",
       "      <td>2012</td>\n",
       "      <td>FCBarcelona</td>\n",
       "      <td>32</td>\n",
       "      <td>4</td>\n",
       "      <td>2</td>\n",
       "    </tr>\n",
       "    <tr>\n",
       "      <th>3</th>\n",
       "      <td>2010</td>\n",
       "      <td>RMadrid</td>\n",
       "      <td>29</td>\n",
       "      <td>5</td>\n",
       "      <td>4</td>\n",
       "    </tr>\n",
       "    <tr>\n",
       "      <th>4</th>\n",
       "      <td>2011</td>\n",
       "      <td>RMadrid</td>\n",
       "      <td>32</td>\n",
       "      <td>4</td>\n",
       "      <td>2</td>\n",
       "    </tr>\n",
       "    <tr>\n",
       "      <th>5</th>\n",
       "      <td>2012</td>\n",
       "      <td>RMadrid</td>\n",
       "      <td>26</td>\n",
       "      <td>7</td>\n",
       "      <td>5</td>\n",
       "    </tr>\n",
       "    <tr>\n",
       "      <th>6</th>\n",
       "      <td>2010</td>\n",
       "      <td>ValenciaCF</td>\n",
       "      <td>21</td>\n",
       "      <td>8</td>\n",
       "      <td>9</td>\n",
       "    </tr>\n",
       "    <tr>\n",
       "      <th>7</th>\n",
       "      <td>2011</td>\n",
       "      <td>ValenciaCF</td>\n",
       "      <td>17</td>\n",
       "      <td>10</td>\n",
       "      <td>11</td>\n",
       "    </tr>\n",
       "    <tr>\n",
       "      <th>8</th>\n",
       "      <td>2012</td>\n",
       "      <td>ValenciaCF</td>\n",
       "      <td>19</td>\n",
       "      <td>8</td>\n",
       "      <td>11</td>\n",
       "    </tr>\n",
       "  </tbody>\n",
       "</table>\n",
       "</div>"
      ],
      "text/plain": [
       "   year         team  wins  draws  losses\n",
       "0  2010  FCBarcelona    30      6       2\n",
       "1  2011  FCBarcelona    28      7       3\n",
       "2  2012  FCBarcelona    32      4       2\n",
       "3  2010      RMadrid    29      5       4\n",
       "4  2011      RMadrid    32      4       2\n",
       "5  2012      RMadrid    26      7       5\n",
       "6  2010   ValenciaCF    21      8       9\n",
       "7  2011   ValenciaCF    17     10      11\n",
       "8  2012   ValenciaCF    19      8      11"
      ]
     },
     "execution_count": 23,
     "metadata": {},
     "output_type": "execute_result"
    }
   ],
   "source": [
    "football"
   ]
  },
  {
   "cell_type": "code",
   "execution_count": null,
   "id": "ce5bc221-477e-4b73-acb6-185e61ca02c0",
   "metadata": {},
   "outputs": [],
   "source": []
  }
 ],
 "metadata": {
  "kernelspec": {
   "display_name": "Python 3 (ipykernel)",
   "language": "python",
   "name": "python3"
  },
  "language_info": {
   "codemirror_mode": {
    "name": "ipython",
    "version": 3
   },
   "file_extension": ".py",
   "mimetype": "text/x-python",
   "name": "python",
   "nbconvert_exporter": "python",
   "pygments_lexer": "ipython3",
   "version": "3.11.9"
  }
 },
 "nbformat": 4,
 "nbformat_minor": 5
}
